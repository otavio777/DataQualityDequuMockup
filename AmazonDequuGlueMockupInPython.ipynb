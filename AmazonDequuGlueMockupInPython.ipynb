{
  "nbformat": 4,
  "nbformat_minor": 0,
  "metadata": {
    "colab": {
      "name": "AmazonDequuGlueMockupInPython.ipynb",
      "provenance": [],
      "collapsed_sections": []
    },
    "kernelspec": {
      "name": "python3",
      "display_name": "Python 3"
    },
    "language_info": {
      "name": "python"
    }
  },
  "cells": [
    {
      "cell_type": "markdown",
      "metadata": {
        "id": "Khp4D9MNAGIi"
      },
      "source": [
        "# Amazon Dequu + Glue Mockup"
      ]
    },
    {
      "cell_type": "code",
      "metadata": {
        "id": "O7sxZ386AUTK"
      },
      "source": [
        "import pandas as pd"
      ],
      "execution_count": 1,
      "outputs": []
    },
    {
      "cell_type": "code",
      "metadata": {
        "id": "avgnmUPLAV_r"
      },
      "source": [
        "### reference: https://www.data.gouv.fr/en/datasets/all-datasets/#_\n",
        "\n",
        "df = pd.read_excel('/content/drive/MyDrive/CS/all-datasets.xlsx')"
      ],
      "execution_count": 2,
      "outputs": []
    },
    {
      "cell_type": "code",
      "metadata": {
        "colab": {
          "base_uri": "https://localhost:8080/",
          "height": 475
        },
        "id": "EO8c-0cbBpsa",
        "outputId": "a7e31474-ca29-4372-dc8f-f3e21f6e35d1"
      },
      "source": [
        "df.head()"
      ],
      "execution_count": 3,
      "outputs": [
        {
          "output_type": "execute_result",
          "data": {
            "text/html": [
              "<div>\n",
              "<style scoped>\n",
              "    .dataframe tbody tr th:only-of-type {\n",
              "        vertical-align: middle;\n",
              "    }\n",
              "\n",
              "    .dataframe tbody tr th {\n",
              "        vertical-align: top;\n",
              "    }\n",
              "\n",
              "    .dataframe thead th {\n",
              "        text-align: right;\n",
              "    }\n",
              "</style>\n",
              "<table border=\"1\" class=\"dataframe\">\n",
              "  <thead>\n",
              "    <tr style=\"text-align: right;\">\n",
              "      <th></th>\n",
              "      <th>dataset_id</th>\n",
              "      <th>provider_id</th>\n",
              "      <th>x</th>\n",
              "      <th>y</th>\n",
              "      <th>coverage_id</th>\n",
              "      <th>dataset_name</th>\n",
              "      <th>licence</th>\n",
              "      <th>description</th>\n",
              "      <th>data_source_file</th>\n",
              "      <th>data_source_site</th>\n",
              "      <th>geo</th>\n",
              "    </tr>\n",
              "  </thead>\n",
              "  <tbody>\n",
              "    <tr>\n",
              "      <th>0</th>\n",
              "      <td>01e0f8d4-2859-4c56-afea-072b67a8147b</td>\n",
              "      <td>OEB</td>\n",
              "      <td>-122320073.0</td>\n",
              "      <td>441732625.0</td>\n",
              "      <td>us-or</td>\n",
              "      <td>us-or_eugenebend</td>\n",
              "      <td>NaN</td>\n",
              "      <td>Oregon - Eugene Bend</td>\n",
              "      <td>http://transitfeeds.com/p/tac-transportation/4...</td>\n",
              "      <td>http://oregon-gtfs.com/</td>\n",
              "      <td>44.1732625,-122.320073</td>\n",
              "    </tr>\n",
              "    <tr>\n",
              "      <th>1</th>\n",
              "      <td>044b8517-073d-4a18-bbf6-ac4186d78cdc</td>\n",
              "      <td>CFE</td>\n",
              "      <td>NaN</td>\n",
              "      <td>NaN</td>\n",
              "      <td>fr-se</td>\n",
              "      <td>Corsica ferries</td>\n",
              "      <td>NaN</td>\n",
              "      <td>Corsica ferries</td>\n",
              "      <td>NaN</td>\n",
              "      <td>https://www.corsica-ferries.fr/</td>\n",
              "      <td>NaN</td>\n",
              "    </tr>\n",
              "    <tr>\n",
              "      <th>2</th>\n",
              "      <td>068bb939-bb40-42e3-865a-cc758c07d623</td>\n",
              "      <td>OCABCCRTS</td>\n",
              "      <td>-12524459.0</td>\n",
              "      <td>5001634.0</td>\n",
              "      <td>ca-bc</td>\n",
              "      <td>ca-bc_campbellriver_gtfs</td>\n",
              "      <td>NaN</td>\n",
              "      <td>BC Transit - Campbell River Transit System</td>\n",
              "      <td>https://bctransit.com/data/gtfs/campbell-river...</td>\n",
              "      <td>https://www.bctransit.com/open-data</td>\n",
              "      <td>50.01634,-125.24459</td>\n",
              "    </tr>\n",
              "    <tr>\n",
              "      <th>3</th>\n",
              "      <td>095ab0b8-c3a0-450d-a051-092047c45c20</td>\n",
              "      <td>ODF</td>\n",
              "      <td>2257274.0</td>\n",
              "      <td>44556369.0</td>\n",
              "      <td>fr-sw</td>\n",
              "      <td>Decazeville - TUB</td>\n",
              "      <td>NaN</td>\n",
              "      <td>Decazeville (open)</td>\n",
              "      <td>https://static.data.gouv.fr/resources/transpor...</td>\n",
              "      <td>https://transport.data.gouv.fr/datasets/transp...</td>\n",
              "      <td>44.556369,2.257274</td>\n",
              "    </tr>\n",
              "    <tr>\n",
              "      <th>4</th>\n",
              "      <td>096fae20-2bc0-4176-bee5-1434c62a4f23</td>\n",
              "      <td>MF2</td>\n",
              "      <td>-715337805.0</td>\n",
              "      <td>41276516.0</td>\n",
              "      <td>us-ma</td>\n",
              "      <td>us-ma_blockisland</td>\n",
              "      <td>NaN</td>\n",
              "      <td>Massachusetts - Block Island</td>\n",
              "      <td>https://transitfeeds.com/p/massdot/644/latest/...</td>\n",
              "      <td>https://www.massdot.state.ma.us/DevelopersData...</td>\n",
              "      <td>41.276516,-71.5337805</td>\n",
              "    </tr>\n",
              "  </tbody>\n",
              "</table>\n",
              "</div>"
            ],
            "text/plain": [
              "                             dataset_id  ...                     geo\n",
              "0  01e0f8d4-2859-4c56-afea-072b67a8147b  ...  44.1732625,-122.320073\n",
              "1  044b8517-073d-4a18-bbf6-ac4186d78cdc  ...                     NaN\n",
              "2  068bb939-bb40-42e3-865a-cc758c07d623  ...     50.01634,-125.24459\n",
              "3  095ab0b8-c3a0-450d-a051-092047c45c20  ...      44.556369,2.257274\n",
              "4  096fae20-2bc0-4176-bee5-1434c62a4f23  ...   41.276516,-71.5337805\n",
              "\n",
              "[5 rows x 11 columns]"
            ]
          },
          "metadata": {
            "tags": []
          },
          "execution_count": 3
        }
      ]
    },
    {
      "cell_type": "code",
      "metadata": {
        "colab": {
          "base_uri": "https://localhost:8080/"
        },
        "id": "2_6KUmf1BwXL",
        "outputId": "102db90c-9939-49fe-f2e2-e7332e22728e"
      },
      "source": [
        "df.columns"
      ],
      "execution_count": 4,
      "outputs": [
        {
          "output_type": "execute_result",
          "data": {
            "text/plain": [
              "Index(['dataset_id', 'provider_id', 'x', 'y', 'coverage_id', 'dataset_name',\n",
              "       'licence', 'description', 'data_source_file', 'data_source_site',\n",
              "       'geo'],\n",
              "      dtype='object')"
            ]
          },
          "metadata": {
            "tags": []
          },
          "execution_count": 4
        }
      ]
    },
    {
      "cell_type": "markdown",
      "metadata": {
        "id": "2HtDXshDIeze"
      },
      "source": [
        "## Statistics"
      ]
    },
    {
      "cell_type": "code",
      "metadata": {
        "colab": {
          "base_uri": "https://localhost:8080/",
          "height": 295
        },
        "id": "ZibPusG9Bx8G",
        "outputId": "77e7f098-ca32-4eee-f897-a802ba421947"
      },
      "source": [
        "df[['x', 'y']].describe()"
      ],
      "execution_count": 12,
      "outputs": [
        {
          "output_type": "execute_result",
          "data": {
            "text/html": [
              "<div>\n",
              "<style scoped>\n",
              "    .dataframe tbody tr th:only-of-type {\n",
              "        vertical-align: middle;\n",
              "    }\n",
              "\n",
              "    .dataframe tbody tr th {\n",
              "        vertical-align: top;\n",
              "    }\n",
              "\n",
              "    .dataframe thead th {\n",
              "        text-align: right;\n",
              "    }\n",
              "</style>\n",
              "<table border=\"1\" class=\"dataframe\">\n",
              "  <thead>\n",
              "    <tr style=\"text-align: right;\">\n",
              "      <th></th>\n",
              "      <th>x</th>\n",
              "      <th>y</th>\n",
              "    </tr>\n",
              "  </thead>\n",
              "  <tbody>\n",
              "    <tr>\n",
              "      <th>count</th>\n",
              "      <td>6.380000e+02</td>\n",
              "      <td>6.380000e+02</td>\n",
              "    </tr>\n",
              "    <tr>\n",
              "      <th>mean</th>\n",
              "      <td>-3.426378e+14</td>\n",
              "      <td>5.084944e+14</td>\n",
              "    </tr>\n",
              "    <tr>\n",
              "      <th>std</th>\n",
              "      <td>1.688873e+15</td>\n",
              "      <td>3.068742e+15</td>\n",
              "    </tr>\n",
              "    <tr>\n",
              "      <th>min</th>\n",
              "      <td>-1.227427e+16</td>\n",
              "      <td>-4.349286e+14</td>\n",
              "    </tr>\n",
              "    <tr>\n",
              "      <th>25%</th>\n",
              "      <td>-1.231160e+14</td>\n",
              "      <td>4.414458e+07</td>\n",
              "    </tr>\n",
              "    <tr>\n",
              "      <th>50%</th>\n",
              "      <td>-4.409720e+05</td>\n",
              "      <td>4.242528e+13</td>\n",
              "    </tr>\n",
              "    <tr>\n",
              "      <th>75%</th>\n",
              "      <td>6.306011e+06</td>\n",
              "      <td>4.502327e+14</td>\n",
              "    </tr>\n",
              "    <tr>\n",
              "      <th>max</th>\n",
              "      <td>9.550174e+14</td>\n",
              "      <td>4.070868e+16</td>\n",
              "    </tr>\n",
              "  </tbody>\n",
              "</table>\n",
              "</div>"
            ],
            "text/plain": [
              "                  x             y\n",
              "count  6.380000e+02  6.380000e+02\n",
              "mean  -3.426378e+14  5.084944e+14\n",
              "std    1.688873e+15  3.068742e+15\n",
              "min   -1.227427e+16 -4.349286e+14\n",
              "25%   -1.231160e+14  4.414458e+07\n",
              "50%   -4.409720e+05  4.242528e+13\n",
              "75%    6.306011e+06  4.502327e+14\n",
              "max    9.550174e+14  4.070868e+16"
            ]
          },
          "metadata": {
            "tags": []
          },
          "execution_count": 12
        }
      ]
    },
    {
      "cell_type": "markdown",
      "metadata": {
        "id": "SiWofDM7AKy7"
      },
      "source": [
        "## Completeness"
      ]
    },
    {
      "cell_type": "code",
      "metadata": {
        "id": "siTBJqvzde_t"
      },
      "source": [
        "def check_dataframe_completeness(dataframe):\n",
        "  for column in dataframe:\n",
        "    s = df[column]\n",
        "    print(column, 'has', s.isna().sum(), 'empty cells.')"
      ],
      "execution_count": 6,
      "outputs": []
    },
    {
      "cell_type": "code",
      "metadata": {
        "colab": {
          "base_uri": "https://localhost:8080/"
        },
        "id": "SiGg_EDAfHMu",
        "outputId": "10983fb7-0499-4938-bff8-351a14da2ddd"
      },
      "source": [
        "check_dataframe_completeness(df)"
      ],
      "execution_count": 7,
      "outputs": [
        {
          "output_type": "stream",
          "text": [
            "dataset_id has 0 empty cells.\n",
            "provider_id has 0 empty cells.\n",
            "x has 4 empty cells.\n",
            "y has 4 empty cells.\n",
            "coverage_id has 0 empty cells.\n",
            "dataset_name has 0 empty cells.\n",
            "licence has 642 empty cells.\n",
            "description has 0 empty cells.\n",
            "data_source_file has 70 empty cells.\n",
            "data_source_site has 41 empty cells.\n",
            "geo has 4 empty cells.\n"
          ],
          "name": "stdout"
        }
      ]
    },
    {
      "cell_type": "markdown",
      "metadata": {
        "id": "GBjkqAVMARwx"
      },
      "source": [
        "## Format Consistency"
      ]
    },
    {
      "cell_type": "code",
      "metadata": {
        "colab": {
          "base_uri": "https://localhost:8080/"
        },
        "id": "airG7LrAkpqA",
        "outputId": "dde2bec9-f6db-4b14-92b1-e931c73dc082"
      },
      "source": [
        "!pip install validators"
      ],
      "execution_count": 8,
      "outputs": [
        {
          "output_type": "stream",
          "text": [
            "Collecting validators\n",
            "  Downloading https://files.pythonhosted.org/packages/db/2f/7fed3ee94ad665ad2c1de87f858f10a7785251ff75b4fd47987888d07ef1/validators-0.18.2-py3-none-any.whl\n",
            "Requirement already satisfied: six>=1.4.0 in /usr/local/lib/python3.7/dist-packages (from validators) (1.15.0)\n",
            "Requirement already satisfied: decorator>=3.4.0 in /usr/local/lib/python3.7/dist-packages (from validators) (4.4.2)\n",
            "Installing collected packages: validators\n",
            "Successfully installed validators-0.18.2\n"
          ],
          "name": "stdout"
        }
      ]
    },
    {
      "cell_type": "code",
      "metadata": {
        "id": "cjmS0cw5kwVr"
      },
      "source": [
        "import validators"
      ],
      "execution_count": 9,
      "outputs": []
    },
    {
      "cell_type": "code",
      "metadata": {
        "id": "XBMfXZCrhBHO"
      },
      "source": [
        "def check_uuid_consistency(serie):\n",
        "\n",
        "  count_invalid_entries = 0\n",
        "\n",
        "  for row in serie:\n",
        "    test = validators.uuid(row)\n",
        "    if not test:\n",
        "      print('Entry', row, ' is not valid.')"
      ],
      "execution_count": 10,
      "outputs": []
    },
    {
      "cell_type": "code",
      "metadata": {
        "colab": {
          "base_uri": "https://localhost:8080/"
        },
        "id": "7agFqROllfI6",
        "outputId": "5d2875bc-4f13-45d0-bb2c-7ef5e5c00d3b"
      },
      "source": [
        "check_uuid_consistency(df.dataset_id)"
      ],
      "execution_count": 11,
      "outputs": [
        {
          "output_type": "stream",
          "text": [
            "Entry ghana-feed  is not valid.\n",
            "Entry ni-esteli  is not valid.\n",
            "Entry gtfs_israel  is not valid.\n",
            "Entry ni-managua  is not valid.\n",
            "Entry ni-national-1  is not valid.\n"
          ],
          "name": "stdout"
        }
      ]
    }
  ]
}